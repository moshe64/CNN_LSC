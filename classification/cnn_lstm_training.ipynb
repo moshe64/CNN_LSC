{
 "cells": [
  {
   "cell_type": "markdown",
   "id": "f7646cb9",
   "metadata": {
    "id": "f7646cb9"
   },
   "source": [
    "## Importar librerias"
   ]
  },
  {
   "cell_type": "code",
   "execution_count": 2,
   "id": "c3e1c15e",
   "metadata": {
    "id": "c3e1c15e"
   },
   "outputs": [],
   "source": [
    "import cv2\n",
    "import math\n",
    "import random\n",
    "from moviepy.editor import *\n",
    "import datetime as dt\n",
    "import numpy as np\n",
    "import pandas as pd\n",
    "import matplotlib.pyplot as plt\n",
    "import sys\n",
    "import os\n",
    "import uuid\n",
    "import time\n",
    "from PIL import Image\n",
    "import pathlib\n",
    "import IPython.display as display\n",
    "from sklearn.model_selection import train_test_split\n",
    "import tensorflow as tf\n",
    "from tensorflow.image import rgb_to_grayscale\n",
    "from tensorflow.keras.utils import image_dataset_from_directory, to_categorical, plot_model\n",
    "from tensorflow.keras.applications import MobileNetV2, MobileNet\n",
    "from tensorflow.keras.preprocessing.image import ImageDataGenerator\n",
    "from tensorflow.keras.layers import *\n",
    "from tensorflow.keras.models import Model, Sequential \n",
    "from tensorflow.keras.callbacks import ModelCheckpoint, ReduceLROnPlateau, EarlyStopping\n",
    "from tensorflow.keras import regularizers, Sequential, Input\n",
    "from tensorflow.keras import optimizers\n",
    "from tensorflow.keras import backend as K "
   ]
  },
  {
   "cell_type": "code",
   "execution_count": 3,
   "id": "b8ab1785",
   "metadata": {
    "id": "b8ab1785"
   },
   "outputs": [],
   "source": [
    "seed_constant = 27\n",
    "np.random.seed(seed_constant)\n",
    "random.seed(seed_constant)\n",
    "tf.random.set_seed(seed_constant)"
   ]
  },
  {
   "cell_type": "markdown",
   "id": "957a56f9",
   "metadata": {
    "id": "957a56f9"
   },
   "source": [
    "## Parametros"
   ]
  },
  {
   "cell_type": "code",
   "execution_count": 4,
   "id": "dacd753a",
   "metadata": {
    "id": "dacd753a"
   },
   "outputs": [],
   "source": [
    "# Cantidad de Epocas para el entrenamiento\n",
    "epochs = 50\n",
    "# Especificar la resolucion de la imágenes del dataset\n",
    "IMAGE_HEIGHT , IMAGE_WIDTH = 64, 64\n",
    "\n",
    "# Especificar el número de Frames que representan el video\n",
    "SEQUENCE_LENGTH = 10\n",
    "\n",
    "# Especificar el directorio de la base de datos\n",
    "DATASET_DIR = 'C:/Users/Moises/Documents/project_final/dataset_classification'\n",
    "\n",
    "# Especificar la lista de clases, en este caso la Ñ la reemplaza por NE para que no creara conflicto con el codigo\n",
    "CLASSES_LIST = ['A', 'B', 'C', 'D', 'E', 'F', 'G', 'H', 'I', 'J', 'K', 'L', 'M', 'N', 'NE', 'O', 'P', 'Q', 'R', 'S', 'T', 'U', 'V', 'W', 'X', 'Y', 'Z']\n",
    "\n",
    "# Especificar el Loss_rate y el momentum para el entrenamiento del modelo\n",
    "lr = 0.001\n",
    "momentum = 0.9\n",
    "\n",
    "number_imgs = 4"
   ]
  },
  {
   "cell_type": "markdown",
   "id": "9b1551d2",
   "metadata": {},
   "source": [
    "## Crear videos de la base de datos"
   ]
  },
  {
   "cell_type": "code",
   "execution_count": null,
   "id": "acbc3b3c",
   "metadata": {},
   "outputs": [],
   "source": [
    "for label in CLASSES_LIST:\n",
    "    cap = cv2.VideoCapture(0)\n",
    "    print('Collecting frames for {}'.format(label))\n",
    "    time.sleep(5)\n",
    "    for imgnum in range(number_imgs): \n",
    "        print('Collecting video {}'.format(imgnum))\n",
    "        for frame_num in range(50):\n",
    "\n",
    "                # Read feed\n",
    "                ret, image = cap.read()\n",
    "\n",
    "                cv2.imshow('OpenCV Feed', image)\n",
    "                \n",
    "                cv2.waitKey(50)\n",
    "                \n",
    "                imgname = os.path.join(DATASET_DIR,label,label+'.'+'{}.jpg'.format(str(uuid.uuid1())))\n",
    "                cv2.imwrite(imgname, image)\n",
    "\n",
    "        time.sleep(2)\n",
    "\n",
    "    if cv2.waitKey(1) & 0xFF == ord('q'):\n",
    "        break\n",
    "cap.release()\n",
    "cv2.destroyAllWindows()"
   ]
  },
  {
   "cell_type": "markdown",
   "id": "1f65043b",
   "metadata": {
    "id": "1f65043b"
   },
   "source": [
    "## Cargar Imagenes y Pre-Procesamiento"
   ]
  },
  {
   "cell_type": "code",
   "execution_count": 5,
   "id": "e28a1e1f",
   "metadata": {
    "id": "e28a1e1f"
   },
   "outputs": [],
   "source": [
    "def frames_extraction(video_path):\n",
    "    '''\n",
    "    Esta función recupera las imagenes desde la base de datos las redimensiona a la resolucion especificada en parametros y las normaliza.\n",
    "    Args:\n",
    "        video_path: Ruta de la imagen en el directorio.\n",
    "    Returns:\n",
    "        frames_list: Una lista con los frames separados en el intervalo especificado en parámetros.\n",
    "    '''\n",
    "\n",
    "    # Declarar las variables\n",
    "    frames_list = []\n",
    "\n",
    "    # hacer una iteración para guardar los frames en el intervalo especificado\n",
    "    for frame_counter in range(SEQUENCE_LENGTH):\n",
    "\n",
    "        # Leer la imagen desde el directorio\n",
    "        frame = cv2.imread(video_path) \n",
    "\n",
    "        # Redimensionar la imagen\n",
    "        resized_frame = cv2.resize(frame, (IMAGE_HEIGHT, IMAGE_WIDTH))\n",
    "        \n",
    "        # Normalizar la imagen entre 0 y 1\n",
    "        normalized_frame = resized_frame / 255\n",
    "        \n",
    "        # Agregar elementos a la lista de frames\n",
    "        frames_list.append(normalized_frame)\n",
    "\n",
    "    # Retorna la frames list.\n",
    "    return frames_list"
   ]
  },
  {
   "cell_type": "code",
   "execution_count": 6,
   "id": "505b87f3",
   "metadata": {
    "id": "505b87f3"
   },
   "outputs": [],
   "source": [
    "def create_dataset():\n",
    "    '''\n",
    "    En esta funcion se va crear la base de datos con los frames extraidos del directorio.\n",
    "    Returns:\n",
    "        features:          Una lista con los frames extraidos.\n",
    "        labels:            Una lista con las clases asociadas a cada imagen.\n",
    "        video_files_paths: Una lista con el directorio donde están contenidas las imagenes.\n",
    "    '''\n",
    "\n",
    "    # Declarar las listas vacias para cada variable\n",
    "    features = []\n",
    "    labels = []\n",
    "    video_files_paths = []\n",
    "    \n",
    "    # Se va a iterar sobre cada clase\n",
    "    for class_index, class_name in enumerate(CLASSES_LIST):\n",
    "        \n",
    "        # Para poder mostrar en que parte de la extracción va el codigo\n",
    "        print(f'Extracting Data of Class: {class_name}')\n",
    "        \n",
    "        # Se crea la ruta de directorio con el nombre de cada clase \n",
    "        files_list = os.listdir(os.path.join(DATASET_DIR, class_name))\n",
    "        \n",
    "        # Se hace una iteración en la que se extraigan los frames pertenecientes a la clase\n",
    "        for file_name in files_list:\n",
    "            \n",
    "            video_file_path = os.path.join(DATASET_DIR, class_name, file_name)\n",
    "            \n",
    "            # Llamado de la funcion de extraccion\n",
    "            frames = frames_extraction(video_file_path)\n",
    "\n",
    "            # Revisar si los frames son iguales al parametro de tiempo\n",
    "            if len(frames) == SEQUENCE_LENGTH:\n",
    "\n",
    "                # Agregar la informacion a sus listas\n",
    "                features.append(frames)\n",
    "                labels.append(class_index)\n",
    "                video_files_paths.append(video_file_path)\n",
    "\n",
    "    # convertir las listas a arreglos de numpy\n",
    "    features = np.asarray(features)\n",
    "    labels = np.array(labels)  \n",
    "    \n",
    "    # Retorna los frames, las clases y la ruta de archivos\n",
    "    return features, labels, video_files_paths\n",
    "            "
   ]
  },
  {
   "cell_type": "code",
   "execution_count": 6,
   "id": "474b5a74",
   "metadata": {
    "colab": {
     "base_uri": "https://localhost:8080/"
    },
    "executionInfo": {
     "elapsed": 195570,
     "status": "ok",
     "timestamp": 1655950836379,
     "user": {
      "displayName": "Moisés Núñez López",
      "userId": "00447797654193511233"
     },
     "user_tz": 300
    },
    "id": "474b5a74",
    "outputId": "0f6b8483-1e7e-40a7-df01-b2547afd868d"
   },
   "outputs": [
    {
     "name": "stdout",
     "output_type": "stream",
     "text": [
      "Extracting Data of Class: A\n",
      "Extracting Data of Class: B\n",
      "Extracting Data of Class: C\n",
      "Extracting Data of Class: D\n",
      "Extracting Data of Class: E\n",
      "Extracting Data of Class: F\n",
      "Extracting Data of Class: G\n",
      "Extracting Data of Class: H\n",
      "Extracting Data of Class: I\n",
      "Extracting Data of Class: J\n",
      "Extracting Data of Class: K\n",
      "Extracting Data of Class: L\n",
      "Extracting Data of Class: M\n",
      "Extracting Data of Class: N\n",
      "Extracting Data of Class: NE\n",
      "Extracting Data of Class: O\n",
      "Extracting Data of Class: P\n",
      "Extracting Data of Class: Q\n",
      "Extracting Data of Class: R\n",
      "Extracting Data of Class: S\n",
      "Extracting Data of Class: T\n",
      "Extracting Data of Class: U\n",
      "Extracting Data of Class: V\n",
      "Extracting Data of Class: W\n",
      "Extracting Data of Class: X\n",
      "Extracting Data of Class: Y\n",
      "Extracting Data of Class: Z\n"
     ]
    }
   ],
   "source": [
    "features, labels, video_files_paths = create_dataset()"
   ]
  },
  {
   "cell_type": "code",
   "execution_count": 7,
   "id": "51b6eab8",
   "metadata": {
    "id": "51b6eab8"
   },
   "outputs": [],
   "source": [
    "one_hot_encoded_labels = to_categorical(labels)"
   ]
  },
  {
   "cell_type": "code",
   "execution_count": 8,
   "id": "KT44sgP9R4DG",
   "metadata": {
    "id": "KT44sgP9R4DG"
   },
   "outputs": [],
   "source": [
    "# Se separa el dataset para el entrenamiento en 75% y validacion del 25%\n",
    "features_train, features_test, labels_train, labels_test = train_test_split(features, one_hot_encoded_labels, test_size = 0.25, shuffle = True, random_state = seed_constant)"
   ]
  },
  {
   "cell_type": "code",
   "execution_count": 7,
   "id": "c6db4177",
   "metadata": {
    "id": "c6db4177"
   },
   "outputs": [],
   "source": [
    "K.clear_session()"
   ]
  },
  {
   "cell_type": "markdown",
   "id": "bab880de",
   "metadata": {
    "id": "bab880de"
   },
   "source": [
    "## Creacion del Modelo, Heredando de MobileNet_v2"
   ]
  },
  {
   "cell_type": "code",
   "execution_count": 8,
   "id": "91e38522",
   "metadata": {
    "colab": {
     "base_uri": "https://localhost:8080/"
    },
    "executionInfo": {
     "elapsed": 6592,
     "status": "ok",
     "timestamp": 1655950956156,
     "user": {
      "displayName": "Moisés Núñez López",
      "userId": "00447797654193511233"
     },
     "user_tz": 300
    },
    "id": "91e38522",
    "outputId": "7a9509c3-1cdc-4c4f-9eb9-6c4d585273a1"
   },
   "outputs": [
    {
     "name": "stdout",
     "output_type": "stream",
     "text": [
      "WARNING:tensorflow:`input_shape` is undefined or non-square, or `rows` is not in [96, 128, 160, 192, 224]. Weights for input shape (224, 224) will be loaded as the default.\n"
     ]
    }
   ],
   "source": [
    "inp = Input(shape=(SEQUENCE_LENGTH, IMAGE_HEIGHT , IMAGE_WIDTH, 3))\n",
    "\n",
    "cnn = MobileNetV2(weights=\"imagenet\", include_top=False, input_shape=(IMAGE_HEIGHT , IMAGE_WIDTH, 3))\n",
    "\n",
    "for layer in cnn.layers[:-30]:\n",
    "\tlayer.trainable = False\n",
    "\n",
    "headModel = TimeDistributed(cnn)(inp)\n",
    "\n",
    "headModel = TimeDistributed(GlobalAveragePooling2D())(headModel)\n",
    "headModel = Dense(256, activation=\"relu\")(headModel)\n",
    "\n",
    "headModel = TimeDistributed(Flatten())(headModel)\n",
    "\n",
    "headModel = TimeDistributed(Dropout(0.5))(headModel)\n",
    "\n",
    "headModel = LSTM(16)(headModel)\n",
    "headModel = Dense(len(CLASSES_LIST), activation=\"softmax\")(headModel)\n",
    "\n",
    "model = Model(inputs=inp, outputs=headModel)\n"
   ]
  },
  {
   "cell_type": "code",
   "execution_count": 9,
   "id": "2e029b48",
   "metadata": {
    "colab": {
     "base_uri": "https://localhost:8080/"
    },
    "executionInfo": {
     "elapsed": 187,
     "status": "ok",
     "timestamp": 1655950972465,
     "user": {
      "displayName": "Moisés Núñez López",
      "userId": "00447797654193511233"
     },
     "user_tz": 300
    },
    "id": "2e029b48",
    "outputId": "cb95bf6c-c75b-43fd-8c1b-29e922aa0beb"
   },
   "outputs": [
    {
     "name": "stdout",
     "output_type": "stream",
     "text": [
      "Model: \"model\"\n",
      "_________________________________________________________________\n",
      " Layer (type)                Output Shape              Param #   \n",
      "=================================================================\n",
      " input_1 (InputLayer)        [(None, 10, 64, 64, 3)]   0         \n",
      "                                                                 \n",
      " time_distributed (TimeDistr  (None, 10, 2, 2, 1280)   2257984   \n",
      " ibuted)                                                         \n",
      "                                                                 \n",
      " time_distributed_1 (TimeDis  (None, 10, 1280)         0         \n",
      " tributed)                                                       \n",
      "                                                                 \n",
      " dense (Dense)               (None, 10, 256)           327936    \n",
      "                                                                 \n",
      " time_distributed_2 (TimeDis  (None, 10, 256)          0         \n",
      " tributed)                                                       \n",
      "                                                                 \n",
      " time_distributed_3 (TimeDis  (None, 10, 256)          0         \n",
      " tributed)                                                       \n",
      "                                                                 \n",
      " lstm (LSTM)                 (None, 16)                17472     \n",
      "                                                                 \n",
      " dense_1 (Dense)             (None, 27)                459       \n",
      "                                                                 \n",
      "=================================================================\n",
      "Total params: 2,603,851\n",
      "Trainable params: 1,872,267\n",
      "Non-trainable params: 731,584\n",
      "_________________________________________________________________\n"
     ]
    }
   ],
   "source": [
    "model.summary()"
   ]
  },
  {
   "cell_type": "markdown",
   "id": "2270svwfkdqA",
   "metadata": {
    "id": "2270svwfkdqA"
   },
   "source": [
    "## Entrenamiento del Modelo"
   ]
  },
  {
   "cell_type": "code",
   "execution_count": 10,
   "id": "10c9e622",
   "metadata": {
    "colab": {
     "base_uri": "https://localhost:8080/"
    },
    "executionInfo": {
     "elapsed": 276457,
     "status": "ok",
     "timestamp": 1655951254379,
     "user": {
      "displayName": "Moisés Núñez López",
      "userId": "00447797654193511233"
     },
     "user_tz": 300
    },
    "id": "10c9e622",
    "outputId": "a4cdafda-7451-4fe6-916a-8b8f502d9a5b"
   },
   "outputs": [],
   "source": [
    "model.compile(\n",
    "      optimizer=optimizers.SGD(lr, momentum), \n",
    "      #optimizer=optimizers.Adam(learning_rate=0.001),\n",
    "      loss = 'categorical_crossentropy', \n",
    "      metrics=['accuracy'])\n",
    "\n",
    "reduce_lr = ReduceLROnPlateau(monitor = 'val_accuracy',\n",
    "                                                 mode = 'max',\n",
    "                                                 min_delta = 0.01,\n",
    "                                                 patience = 3,\n",
    "                                                 factor = 0.25,\n",
    "                                                 verbose = 1,\n",
    "                                                 cooldown = 0,\n",
    "                                                 min_lr = 0.00000001)\n",
    "\n",
    "early_stopper = EarlyStopping(monitor = 'val_accuracy',\n",
    "                                                 mode = 'max',\n",
    "                                                 min_delta = 0.005,\n",
    "                                                 patience = 10,\n",
    "                                                 verbose = 1,\n",
    "                                                 restore_best_weights = True)\n",
    "\n",
    "model.load_weights('./CNN_LSTM_10_64_64_v1.h5')\n",
    "\n",
    "#history = model.fit(x = features_train,\n",
    "#                    y = labels_train,\n",
    "#                   epochs=epochs,\n",
    "#                    validation_data = [features_test, labels_test],\n",
    "#                    callbacks=[early_stopper, reduce_lr])"
   ]
  },
  {
   "cell_type": "code",
   "execution_count": 13,
   "id": "9f3a199b",
   "metadata": {
    "colab": {
     "base_uri": "https://localhost:8080/"
    },
    "executionInfo": {
     "elapsed": 28209,
     "status": "ok",
     "timestamp": 1655951429626,
     "user": {
      "displayName": "Moisés Núñez López",
      "userId": "00447797654193511233"
     },
     "user_tz": 300
    },
    "id": "9f3a199b",
    "outputId": "adae2d2e-858a-447d-e245-856d8a466db1"
   },
   "outputs": [
    {
     "name": "stdout",
     "output_type": "stream",
     "text": [
      "ok\n"
     ]
    }
   ],
   "source": [
    "model.save(\"CNN_LSTM_10_64_64_v2.h5\")\n",
    "print('ok')"
   ]
  },
  {
   "cell_type": "markdown",
   "id": "wzwdn1NVkodK",
   "metadata": {
    "id": "wzwdn1NVkodK"
   },
   "source": [
    "## Graficar precisión y perdida"
   ]
  },
  {
   "cell_type": "code",
   "execution_count": 14,
   "id": "yrzVkFT6Zaiv",
   "metadata": {
    "id": "yrzVkFT6Zaiv"
   },
   "outputs": [],
   "source": [
    "#get results\n",
    "acc = history.history['accuracy']\n",
    "val_acc = history.history['val_accuracy']\n",
    "loss = history.history['loss']\n",
    "val_loss = history.history['val_loss']"
   ]
  },
  {
   "cell_type": "code",
   "execution_count": 17,
   "id": "fYV8f_R5ZcvX",
   "metadata": {
    "colab": {
     "base_uri": "https://localhost:8080/",
     "height": 588
    },
    "executionInfo": {
     "elapsed": 1026,
     "status": "ok",
     "timestamp": 1655951509339,
     "user": {
      "displayName": "Moisés Núñez López",
      "userId": "00447797654193511233"
     },
     "user_tz": 300
    },
    "id": "fYV8f_R5ZcvX",
    "outputId": "9cce60f2-ff81-44d7-9cd6-c9d179faf723"
   },
   "outputs": [
    {
     "data": {
      "image/png": "[encoded data removed]",
      "text/plain": [
       "<Figure size 576x576 with 1 Axes>"
      ]
     },
     "metadata": {},
     "output_type": "display_data"
    }
   ],
   "source": [
    "#plot results\n",
    "#accuracy\n",
    "plt.figure(figsize=(8, 8))\n",
    "plt.rcParams['figure.figsize'] = [16, 9]\n",
    "plt.rcParams['font.size'] = 14\n",
    "plt.rcParams['axes.grid'] = True\n",
    "plt.rcParams['figure.facecolor'] = 'white'\n",
    "plt.plot(acc, label='Entrenamiento')\n",
    "plt.plot(val_acc, label='Validación')\n",
    "plt.legend(loc='lower right')\n",
    "plt.ylabel('Precisión')\n",
    "plt.xlabel('Epoch')\n",
    "plt.title(f'Precisión en Entrenamiento y Validación. \\nEntrenamiento: {str(round(acc[-1],4)*100)}%\\nValidación: {str(round(val_acc[-1],3)*100)}%')\n",
    "plt.savefig('CNN_LSTM_V3_Acc')"
   ]
  },
  {
   "cell_type": "code",
   "execution_count": 16,
   "id": "gZGEysHVZzOZ",
   "metadata": {
    "colab": {
     "base_uri": "https://localhost:8080/",
     "height": 567
    },
    "executionInfo": {
     "elapsed": 653,
     "status": "ok",
     "timestamp": 1655951579042,
     "user": {
      "displayName": "Moisés Núñez López",
      "userId": "00447797654193511233"
     },
     "user_tz": 300
    },
    "id": "gZGEysHVZzOZ",
    "outputId": "48b45ced-a04c-4ab2-cae7-33e1280ea43a"
   },
   "outputs": [
    {
     "data": {
      "image/png": "[encoded data removed]",
      "text/plain": [
       "<Figure size 576x576 with 1 Axes>"
      ]
     },
     "metadata": {},
     "output_type": "display_data"
    }
   ],
   "source": [
    "#loss\n",
    "plt.figure(figsize=(8, 8))\n",
    "plt.rcParams['figure.figsize'] = [16, 9]\n",
    "plt.rcParams['font.size'] = 14\n",
    "plt.rcParams['axes.grid'] = True\n",
    "plt.rcParams['figure.facecolor'] = 'white'\n",
    "plt.plot(loss, label='Entrenamiento')\n",
    "plt.plot(val_loss, label='Validación')\n",
    "plt.legend(loc='upper right')\n",
    "plt.ylabel('Pérdida')\n",
    "plt.title(f'Pérdida en Entrenamiento y Validación. \\nEntrenamiento: {str(round(loss[-1],3))}\\nValidación: {str(round(val_loss[-1],3))}')\n",
    "plt.xlabel('Epoch')\n",
    "plt.savefig('CNN_LSTM_V3_Loss')"
   ]
  },
  {
   "cell_type": "markdown",
   "id": "05c176c3",
   "metadata": {},
   "source": [
    "## Pruebas con videos"
   ]
  },
  {
   "cell_type": "code",
   "execution_count": 11,
   "id": "0efcd460",
   "metadata": {},
   "outputs": [],
   "source": [
    "def predict_single_action(video_file_path, SEQUENCE_LENGTH):\n",
    "    '''\n",
    "    This function will perform single action recognition prediction on a video using the LRCN model.\n",
    "    Args:\n",
    "    video_file_path:  The path of the video stored in the disk on which the action recognition is to be performed.\n",
    "    SEQUENCE_LENGTH:  The fixed number of frames of a video that can be passed to the model as one sequence.\n",
    "    '''\n",
    " \n",
    "    # Initialize the VideoCapture object to read from the video file.\n",
    "    video_reader = cv2.VideoCapture(video_file_path)\n",
    " \n",
    "    # Declare a list to store video frames we will extract.\n",
    "    frames_list = []\n",
    "    \n",
    "    # Initialize a variable to store the predicted action being performed in the video.\n",
    "    predicted_class_name = ''\n",
    " \n",
    "    # Get the number of frames in the video.\n",
    "    video_frames_count = int(video_reader.get(cv2.CAP_PROP_FRAME_COUNT))\n",
    " \n",
    "    # Calculate the interval after which frames will be added to the list.\n",
    "    skip_frames_window = max(int(video_frames_count/SEQUENCE_LENGTH),1)\n",
    " \n",
    "    # Iterating the number of times equal to the fixed length of sequence.\n",
    "    for frame_counter in range(SEQUENCE_LENGTH):\n",
    " \n",
    "        # Set the current frame position of the video.\n",
    "        video_reader.set(cv2.CAP_PROP_POS_FRAMES, frame_counter * skip_frames_window)\n",
    " \n",
    "        # Read a frame.\n",
    "        success, frame = video_reader.read() \n",
    " \n",
    "        # Check if frame is not read properly then break the loop.\n",
    "        if not success:\n",
    "            break\n",
    " \n",
    "        # Resize the Frame to fixed Dimensions.\n",
    "        resized_frame = cv2.resize(frame, (IMAGE_HEIGHT, IMAGE_WIDTH))\n",
    "        \n",
    "        # Normalize the resized frame by dividing it with 255 so that each pixel value then lies between 0 and 1.\n",
    "        normalized_frame = resized_frame / 255\n",
    "        \n",
    "        # Appending the pre-processed frame into the frames list\n",
    "        frames_list.append(normalized_frame)\n",
    " \n",
    "    # Passing the  pre-processed frames to the model and get the predicted probabilities.\n",
    "    predicted_labels_probabilities = model.predict(np.expand_dims(frames_list, axis = 0))[0]\n",
    " \n",
    "    # Get the index of class with highest probability.\n",
    "    predicted_label = np.argmax(predicted_labels_probabilities)\n",
    " \n",
    "    # Get the class name using the retrieved index.\n",
    "    predicted_class_name = CLASSES_LIST[predicted_label]\n",
    "    \n",
    "    # Display the predicted action along with the prediction confidence.\n",
    "    print(f'Action Predicted: {predicted_class_name}\\nConfidence: {predicted_labels_probabilities[predicted_label]}')\n",
    "        \n",
    "    # Release the VideoCapture object. \n",
    "    video_reader.release()"
   ]
  },
  {
   "cell_type": "code",
   "execution_count": 32,
   "id": "839fc79c",
   "metadata": {},
   "outputs": [
    {
     "name": "stdout",
     "output_type": "stream",
     "text": [
      "1/1 [==============================] - 0s 35ms/step\n",
      "Action Predicted: Z\n",
      "Confidence: 0.8844462037086487\n",
      "Moviepy - Building video __temp__.mp4.\n",
      "Moviepy - Writing video __temp__.mp4\n",
      "\n"
     ]
    },
    {
     "name": "stderr",
     "output_type": "stream",
     "text": [
      "                                                   "
     ]
    },
    {
     "name": "stdout",
     "output_type": "stream",
     "text": [
      "Moviepy - Done !\n",
      "Moviepy - video ready __temp__.mp4\n"
     ]
    },
    {
     "name": "stderr",
     "output_type": "stream",
     "text": [
      "\r"
     ]
    },
    {
     "data": {
      "text/html": [
       "<div align=middle><video src='data:video/mp4;base64,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' controls>Sorry, seems like your browser doesn't support HTML5 audio/video</video></div>"
      ],
      "text/plain": [
       "<moviepy.video.io.html_tools.HTML2 object>"
      ]
     },
     "execution_count": 32,
     "metadata": {},
     "output_type": "execute_result"
    }
   ],
   "source": [
    "# Construct tihe nput youtube video path\n",
    "input_video_file_path = f'C:/Users/Moises/Documents/project_final/videos/Z/Z4.mp4'\n",
    " \n",
    "# Perform Single Prediction on the Test Video.\n",
    "predict_single_action(input_video_file_path, SEQUENCE_LENGTH)\n",
    " \n",
    "# Display the input video.\n",
    "VideoFileClip(input_video_file_path, audio=False, target_resolution=(300,None)).ipython_display()"
   ]
  },
  {
   "cell_type": "markdown",
   "id": "b03c8b74",
   "metadata": {},
   "source": [
    "## Pruebas en tiempo real"
   ]
  },
  {
   "cell_type": "code",
   "execution_count": null,
   "id": "b9fa8b9d",
   "metadata": {},
   "outputs": [],
   "source": [
    "# Initialize the VideoCapture object to read from the video file.\n",
    "video_reader = cv2.VideoCapture(0)\n",
    " \n",
    "while video_reader.isOpened(): \n",
    "    # Get the width and height of the video.\n",
    "    original_video_width = int(video_reader.get(cv2.CAP_PROP_FRAME_WIDTH))\n",
    "    original_video_height = int(video_reader.get(cv2.CAP_PROP_FRAME_HEIGHT))\n",
    " \n",
    "    # Declare a list to store video frames we will extract.\n",
    "    frames_list = []\n",
    "    \n",
    "    # Initialize a variable to store the predicted action being performed in the video.\n",
    "    predicted_class_name = ''\n",
    "\n",
    "    for frame_counter in range(SEQUENCE_LENGTH):\n",
    " \n",
    "        # Read a frame.\n",
    "        success, frame = video_reader.read()\n",
    "        # NEW Apply wait logic\n",
    "        \n",
    "        cv2.putText(frame, 'Video Number {}'.format(frame_counter), (15,12), \n",
    "                    cv2.FONT_HERSHEY_SIMPLEX, 0.5, (0, 0, 255), 1, cv2.LINE_AA)\n",
    "        # Show to screen\n",
    "        cv2.imshow('OpenCV Feed', frame)\n",
    "\n",
    "        cv2.waitKey(500)\n",
    " \n",
    "        # Resize the Frame to fixed Dimensions.\n",
    "        resized_frame = cv2.resize(frame, (IMAGE_HEIGHT, IMAGE_WIDTH))\n",
    "        \n",
    "        # Normalize the resized frame by dividing it with 255 so that each pixel value then lies between 0 and 1.\n",
    "        normalized_frame = resized_frame / 255\n",
    "        \n",
    "        # Appending the pre-processed frame into the frames list\n",
    "        frames_list.append(normalized_frame)\n",
    " \n",
    "    # Passing the  pre-processed frames to the model and get the predicted probabilities.\n",
    "    predicted_labels_probabilities = model.predict(np.expand_dims(frames_list, axis = 0))[0]\n",
    " \n",
    "    # Get the index of class with highest probability.\n",
    "    predicted_label = np.argmax(predicted_labels_probabilities)\n",
    " \n",
    "    # Get the class name using the retrieved index.\n",
    "    predicted_class_name = CLASSES_LIST[predicted_label]\n",
    "\n",
    "\n",
    "    cv2.rectangle(frame, (0,0), (640, 40), (245, 117, 16), -1)\n",
    "    cv2.putText(frame, '{}'.format(predicted_class_name), (3,30), cv2.FONT_HERSHEY_SIMPLEX, 1, (255,255,255), 2, cv2.LINE_AA)\n",
    "    # Show to screen\n",
    "    cv2.imshow('OpenCV Feed', frame)\n",
    "\n",
    "    cv2.waitKey(2000)\n",
    "    # Break gracefully\n",
    "    if cv2.waitKey(10) & 0xFF == ord('q'):\n",
    "        break\n",
    "        \n",
    "# Release the VideoCapture object. \n",
    "video_reader.release()\n",
    "cv2.destroyAllWindows()"
   ]
  }
 ],
 "metadata": {
  "accelerator": "GPU",
  "colab": {
   "collapsed_sections": [],
   "name": "cnn_lstm_training.ipynb",
   "provenance": [],
   "toc_visible": true
  },
  "gpuClass": "standard",
  "kernelspec": {
   "display_name": "Python 3.10.5 64-bit",
   "language": "python",
   "name": "python3"
  },
  "language_info": {
   "codemirror_mode": {
    "name": "ipython",
    "version": 3
   },
   "file_extension": ".py",
   "mimetype": "text/x-python",
   "name": "python",
   "nbconvert_exporter": "python",
   "pygments_lexer": "ipython3",
   "version": "3.10.5"
  },
  "vscode": {
   "interpreter": {
    "hash": "e6d177137781301b570829ad3f9d8c63a2776eda61347c347460303f022cb230"
   }
  }
 },
 "nbformat": 4,
 "nbformat_minor": 5
}
